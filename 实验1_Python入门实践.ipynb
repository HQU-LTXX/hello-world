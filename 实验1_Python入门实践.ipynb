{
 "cells": [
  {
   "cell_type": "markdown",
   "metadata": {},
   "source": [
    "### 实验目标\n",
    "- 了解Python的基本语法；\n",
    "- 掌握Python中的数字类型、字符串、列表、元组、字典、集合的定义和使用；\n",
    "- 掌握Python中的条件语句、循环语句、异常处理、函数的使用；\n",
    "- 能够编写简单的Python程序。\n",
    "\n",
    "### 实验要求：\n",
    "1. 运行和分析给出的代码，学习Python的基本语法；\n",
    "2. 对于给定的实例，\t按照要求编写程序。"
   ]
  },
  {
   "cell_type": "markdown",
   "metadata": {},
   "source": [
    "## 1.1基本语法"
   ]
  },
  {
   "cell_type": "code",
   "execution_count": null,
   "metadata": {
    "collapsed": true
   },
   "outputs": [],
   "source": [
    "# 输出函数\n",
    "print('hello world') "
   ]
  },
  {
   "cell_type": "code",
   "execution_count": null,
   "metadata": {
    "collapsed": true
   },
   "outputs": [],
   "source": [
    "# 输入函数\n",
    "# input里面的字符串是提示符，可以自行修改\n",
    "x = int(input('Please enter the first number: '))\n",
    "y = int(input('Please enter the second number: '))\n",
    "print(x ** y)"
   ]
  },
  {
   "cell_type": "code",
   "execution_count": null,
   "metadata": {
    "collapsed": true
   },
   "outputs": [],
   "source": [
    "x = 3 \n",
    "print(type(x)) # 查看x的类型 \n",
    "print(x+1) \n",
    "print(x*2,x**2,x/2,x/2.0) "
   ]
  },
  {
   "cell_type": "code",
   "execution_count": null,
   "metadata": {
    "collapsed": true
   },
   "outputs": [],
   "source": [
    "x += 1 # 复合赋值运算符\n",
    "print(x)"
   ]
  },
  {
   "cell_type": "code",
   "execution_count": null,
   "metadata": {
    "collapsed": true
   },
   "outputs": [],
   "source": [
    "# python 中没有++运算，下面代码会出错\n",
    "print(x++)"
   ]
  },
  {
   "cell_type": "markdown",
   "metadata": {},
   "source": [
    "## 1.2 数值类型\n",
    "- int（有符号整型）\n",
    "- float（浮点型）\n",
    "- complex（复数）"
   ]
  },
  {
   "cell_type": "code",
   "execution_count": null,
   "metadata": {
    "collapsed": true
   },
   "outputs": [],
   "source": [
    "x = 3\n",
    "print(type(x)) \n",
    "print(x + 1,x - 1, x * 2, x/2, x ** 2) "
   ]
  },
  {
   "cell_type": "code",
   "execution_count": null,
   "metadata": {
    "collapsed": true
   },
   "outputs": [],
   "source": [
    "# 整数的大小与安装的解释器位数有关\n",
    "# 查看当前系统下的Int最大值\n",
    "import sys\n",
    "print(sys.maxsize)"
   ]
  },
  {
   "cell_type": "code",
   "execution_count": null,
   "metadata": {
    "collapsed": true
   },
   "outputs": [],
   "source": [
    "y = 2.5\n",
    "print(type(y)) \n",
    "print(y, y + 1, y * 2, y ** 2,sep=\"\\n\") "
   ]
  },
  {
   "cell_type": "code",
   "execution_count": null,
   "metadata": {
    "collapsed": true
   },
   "outputs": [],
   "source": [
    "x = 3 + 4j\n",
    "print(type(x))\n",
    "print(x)"
   ]
  },
  {
   "cell_type": "code",
   "execution_count": null,
   "metadata": {
    "collapsed": true
   },
   "outputs": [],
   "source": [
    "print(x.imag) # 打印出x的虚部\n",
    "print(x.real) # 打印出x的实部"
   ]
  },
  {
   "cell_type": "markdown",
   "metadata": {
    "collapsed": true
   },
   "source": [
    "## 1.3 数据类型：布尔"
   ]
  },
  {
   "cell_type": "code",
   "execution_count": null,
   "metadata": {
    "collapsed": true
   },
   "outputs": [],
   "source": [
    "t = True\n",
    "f = False\n",
    "print(type(t)) \n",
    "print(t and f) \n",
    "print(t or f)   \n",
    "print(not t)   \n",
    "print(t != f)  "
   ]
  },
  {
   "cell_type": "code",
   "execution_count": null,
   "metadata": {
    "collapsed": true
   },
   "outputs": [],
   "source": [
    "# 布尔运算符只有and,or,not\n",
    "# 下面语句会出现语法错误\n",
    "print(t || f) "
   ]
  },
  {
   "cell_type": "markdown",
   "metadata": {},
   "source": [
    "## 1.4 数据类型：字符串\n",
    "- 不可变有序序列\n",
    "- 使用单引号，双引号，三单引号，三双引号\n",
    "- 通用操作：双向索引，比较大小，计算长度，元素访问，切片，成员测试\n",
    "- 特有用法：字符串格式化，查找，替换，排版等"
   ]
  },
  {
   "cell_type": "code",
   "execution_count": null,
   "metadata": {
    "collapsed": true
   },
   "outputs": [],
   "source": [
    "S = 'Princetechs'\n",
    "# 内置函数len()用于查看对象的长度\n",
    "print(len(S)) "
   ]
  },
  {
   "cell_type": "code",
   "execution_count": null,
   "metadata": {
    "collapsed": true
   },
   "outputs": [],
   "source": [
    "# 有序序列的索引或小标index从0开始\n",
    "# 正向范围为 0 到 len(obj)-1 \n",
    "# 反向范围为 -len(obj) 到  -1\n",
    "print(S[0],S[-len(S)])\n",
    "print(S[1],S[-len(S)+1])\n",
    "print(S[-1],S[len(S)-1])\n",
    "print(S[-2],S[len(S)-2]) "
   ]
  },
  {
   "cell_type": "markdown",
   "metadata": {},
   "source": [
    "有序序列切片，[start:stop:step]，从start开始，到stop结束（不包括stop），步长为step.\n",
    "\n",
    "start默认值为0，stop默认值为序列最后一项，step默认值为1\n",
    "\n",
    "字符串的切片，得到的还是字符串"
   ]
  },
  {
   "cell_type": "code",
   "execution_count": null,
   "metadata": {
    "collapsed": true
   },
   "outputs": [],
   "source": [
    "print(S)\n",
    "print(S[1:3]) # 第2个字符和第3个字符\n",
    "print(S[1:]) # 从第1个字符到最后一个字符的所有字符\n",
    "print(S[:3]) # 前3个字符\n",
    "print(S[:-1]) # 不包括最后一个字符\n",
    "print(S[:])  # S本身"
   ]
  },
  {
   "cell_type": "code",
   "execution_count": null,
   "metadata": {
    "collapsed": true
   },
   "outputs": [],
   "source": [
    "print(S + 'xyz') # 字符串连接\n",
    "print(S * 3)  # 字符串重复3次"
   ]
  },
  {
   "cell_type": "code",
   "execution_count": null,
   "metadata": {
    "collapsed": true
   },
   "outputs": [],
   "source": [
    "S = 'Princetechs'\n",
    "S[0]='Z'\n",
    "# 字符串是不可变变量，不能修改值\n",
    "# 以上语句会出现类型错误"
   ]
  },
  {
   "cell_type": "code",
   "execution_count": null,
   "metadata": {
    "collapsed": true
   },
   "outputs": [],
   "source": [
    "S = 'Z'+ S[1:]\n",
    "print(S)\n",
    "# 通过字符串连接运算修改了字符串S的第一个字符"
   ]
  },
  {
   "cell_type": "markdown",
   "metadata": {},
   "source": [
    "#### [字符串常见的方法](https://docs.python.org/3.6/library/stdtypes.html#string-methods)\n",
    "\n",
    "字符串方法  | 描述\n",
    ":---|:---:\n",
    "<font color=#0000ff face=\"黑体\">capitalize():</font>  | 返回字符串的副本，首字母大写，其他字符小写\n",
    "<font color=#0000ff face=\"黑体\">lower():</font>  | 返回字符串的副本，所有字符小写\n",
    "<font color=#0000ff face=\"黑体\">upper():</font>  | 返回字符串的副本，所有字符大写\n",
    "<font color=#0000ff face=\"黑体\">title():</font>  | 返回字符串的副本，所有单词首字母大写\n",
    "<font color=#0000ff face=\"黑体\">strip(chars):</font> | 返回字符串的副本，去掉开头和结尾在chars中列出的字符 rstrip() 和 lstrip() 类似strip()方法，只是分别应用于右侧和左侧\n",
    "<font color=#0000ff face=\"黑体\">replace(old,new[,count]):</font> | 返回字符串的副本，所有old字符被替换为new,如果指定个数count,则替换前count个\n",
    "<font color=#0000ff face=\"黑体\">str.join(list):</font> | 返回字符串的副本，将list中除最后一个元素外每个元素后面增加一个str字符\n",
    "<font color=#0000ff face=\"黑体\">index(item) or rindex(item):</font>  | 返回一个字符串在另外一个字符串指定范围（默认是整个字符串）中首次和最后一次出现的位置；如果不存在则抛出异常\n",
    "<font color=#0000ff face=\"黑体\">find(item) or rfind(item):</font>  | 返回一个字符串在另外一个字符串指定范围（默认是整个字符串）中首次和最后一次出现的位置；如果不存在则返回-1\n",
    "<font color=#0000ff face=\"黑体\">count(item):</font>  | 返回字符串中item出现的次数\n",
    "<font color=#0000ff face=\"黑体\">split(sep=None):</font> | 使用分隔符sep，将字符串划分为列表\n",
    "<font color=#0000ff face=\"黑体\">swapcase():</font> | 返回字符串的副本，大小写互换\n"
   ]
  },
  {
   "cell_type": "code",
   "execution_count": null,
   "metadata": {
    "collapsed": true
   },
   "outputs": [],
   "source": [
    "print(S.find('Prince'))"
   ]
  },
  {
   "cell_type": "code",
   "execution_count": null,
   "metadata": {
    "collapsed": true
   },
   "outputs": [],
   "source": [
    "print(S.replace('Prince','XYZ'))"
   ]
  },
  {
   "cell_type": "code",
   "execution_count": null,
   "metadata": {
    "collapsed": true
   },
   "outputs": [],
   "source": [
    "print(S.upper())"
   ]
  },
  {
   "cell_type": "code",
   "execution_count": null,
   "metadata": {
    "collapsed": true
   },
   "outputs": [],
   "source": [
    "line='aa,bb,ccc,dd'\n",
    "print(line.split(','))"
   ]
  },
  {
   "cell_type": "code",
   "execution_count": null,
   "metadata": {
    "collapsed": true
   },
   "outputs": [],
   "source": [
    "line='aa,bb,ccc,dd\\n'\n",
    "print(line.rstrip())"
   ]
  },
  {
   "cell_type": "code",
   "execution_count": null,
   "metadata": {
    "collapsed": true
   },
   "outputs": [],
   "source": [
    "print('  world '.strip())"
   ]
  },
  {
   "cell_type": "code",
   "execution_count": null,
   "metadata": {
    "collapsed": true
   },
   "outputs": [],
   "source": [
    "hw12='%s %s %d' % ('hello','world',12)\n",
    "print(hw12)"
   ]
  },
  {
   "cell_type": "code",
   "execution_count": null,
   "metadata": {
    "collapsed": true
   },
   "outputs": [],
   "source": [
    "hw12='{0}{1}{2}'.format('hello ','test ',12) \n",
    "print(hw12)"
   ]
  },
  {
   "cell_type": "markdown",
   "metadata": {},
   "source": [
    "## 1.5 列表\n",
    "- 可变序列\n",
    "- 列表中的元素可以是任何类型\n",
    "- 列表的索引从0开始"
   ]
  },
  {
   "cell_type": "code",
   "execution_count": null,
   "metadata": {
    "collapsed": true
   },
   "outputs": [],
   "source": [
    "animals = ['cat', 'dog', 'monkey']\n",
    "for animal in animals:\n",
    "    print(animal)"
   ]
  },
  {
   "cell_type": "code",
   "execution_count": null,
   "metadata": {
    "collapsed": true
   },
   "outputs": [],
   "source": [
    "for idx, animal in enumerate(animals):\n",
    "    print('#%d: %s' % (idx + 1, animal))"
   ]
  },
  {
   "cell_type": "code",
   "execution_count": null,
   "metadata": {
    "collapsed": true
   },
   "outputs": [],
   "source": [
    "squares = [x*2 for x in animals]\n",
    "print(squares)"
   ]
  },
  {
   "cell_type": "code",
   "execution_count": null,
   "metadata": {
    "collapsed": true
   },
   "outputs": [],
   "source": [
    "list1 = [12,45,32,55]\n",
    "list1[0] = \"good\"\n",
    "print(list1)"
   ]
  },
  {
   "cell_type": "code",
   "execution_count": null,
   "metadata": {
    "collapsed": true
   },
   "outputs": [],
   "source": [
    "list2 = [x*3 for x in list1]\n",
    "print(list2)"
   ]
  },
  {
   "cell_type": "markdown",
   "metadata": {},
   "source": [
    "#### <font color=#ff00ff size=5 face=\"黑体\"> [列表常见的方法](https://docs.python.org/3.6/tutorial/datastructures.html#more-on-lists)包括： </font>\n",
    "1. 向列表中添加元素\n",
    "   - <font color=#0000ff face=\"黑体\">append(item):</font>将元素item追加到列表尾部。\n",
    "   - <font color=#0000ff face=\"黑体\">extend(incomingList):</font>将参数列表中的所有元素追加至当前列表尾部。Note that this adds the items in incomingList one-by-one to the current list; it doesn't add incomingList itself as an item to the current list.\n",
    "   - <font color=#0000ff face=\"黑体\">insert(index,item):</font>在列表index位置处，插入元素item.如e果index为正数且大于列表长度，则在尾部追加item;如果index为负数且小于列表长度的相反数则在列表头部插入item.\n",
    "\n",
    "2. 删除列表中的元素\n",
    "   - <font color=#0000ff face=\"黑体\">remove(item):</font>在列表中删除第一个值为item的元素，如果列表中不存在item,则抛出异常。\n",
    "   - <font color=#0000ff face=\"黑体\">pop([index]):</font>removes and returns the item at index on the list. 如果不指定下标，默认为-1，弹出最后一个元素。如果下标范围不在[-L,L)之间，则抛出异常。\n",
    "   - <font color=#0000ff face=\"黑体\">clear():</font>删除列表中的所有元素，保留列表对象。\n",
    "\n",
    "3. 排序和逆序\n",
    "   - <font color=#0000ff face=\"黑体\">sort(key=None,reverse=False):</font>对列表中的元素进行原地排序，key用来指定排序规则，reverse为False表示升序，True表示降序。\n",
    "   - <font color=#0000ff face=\"黑体\">reverse():</font>对列表中的元素进行原地逆序，首尾交换。\n",
    "\n",
    "4. 次数和位置\n",
    "   - <font color=#0000ff face=\"黑体\">index(item):</font>返回列表中第一个值为item的元素的索引，若不存在item，则抛出异常。\n",
    "   - <font color=#0000ff face=\"黑体\">count(item):</font>返回列表中item出现的次数。"
   ]
  },
  {
   "cell_type": "code",
   "execution_count": null,
   "metadata": {
    "collapsed": true
   },
   "outputs": [],
   "source": [
    "#A list of the numbers 1 through 20\n",
    "myList = [17, 12, 9, 18, 11, 19, 7, 13, 14, 16, 1, 10, 8, 4, 6, 3, 15, 2, 5, 20]\n",
    "print(len(myList))\n",
    "print(\"Original list:\",myList)\n",
    "\n",
    "myList.sort()\n",
    "print(myList, \": After sorting\")\n",
    "\n",
    "\n",
    "myList.append(21)\n",
    "print(myList, \": After appending 21\")\n",
    "\n",
    "myOtherList = [26, 22, 23, 24]\n",
    "myList.extend(myOtherList)\n",
    "print(myList, \": After extending with myOtherList\")\n",
    "\n",
    "myList.insert(15, 25)\n",
    "print(myList, \": After inserting 25 at the index 15\")\n",
    "\n",
    "myList.remove(26)\n",
    "print(myList, \": After removing 26\")\n",
    "\n",
    "myList.sort()\n",
    "print(myList, \": After sorting again\")\n",
    "\n",
    "myList.reverse()\n",
    "print(myList, \": After reversing\")\n",
    "\n",
    "myList.pop()\n",
    "print(myList, \": After popping\")\n",
    "\n",
    "del myList[-5:]\n",
    "print(myList, \": After deleting the last five items\")\n",
    "\n",
    "print(myList.index(23), \": Index of 23\")\n",
    "print(myList.count(15), \": Count of 15\")\n",
    "print(4 in myList, \": 4 in myList\")\n",
    "print(25 in myList, \": 25 in myList\")\n",
    "\n",
    "newlist = myList.copy()\n",
    "print(\"newlist: \",newlist)\n",
    "print(\"test the id of newlist and mylist\")\n",
    "print(id(newlist) == id(myList))\n",
    "\n",
    "newlist2 = myList\n",
    "print(\"newlist2: \",newlist2)\n",
    "print(id(newlist2) == id(myList))"
   ]
  },
  {
   "cell_type": "markdown",
   "metadata": {},
   "source": [
    "## 1.6 元组\n",
    "\n",
    "- 元组是序列，但是具有不可变性；\n",
    "- 元组编写在圆括号()中；\n",
    "- 元组由逗号分开的序列构成。"
   ]
  },
  {
   "cell_type": "code",
   "execution_count": null,
   "metadata": {
    "collapsed": true
   },
   "outputs": [],
   "source": [
    "T = (1,2,3) \n",
    "print(T)"
   ]
  },
  {
   "cell_type": "code",
   "execution_count": null,
   "metadata": {
    "collapsed": true
   },
   "outputs": [],
   "source": [
    "T = T + (4,5) \n",
    "print(T)"
   ]
  },
  {
   "cell_type": "code",
   "execution_count": null,
   "metadata": {
    "collapsed": true
   },
   "outputs": [],
   "source": [
    "t = (42,)  # 只有一个元素的元组，后面的逗号不能省略\n",
    "print(t)\n",
    "print(type(t))"
   ]
  },
  {
   "cell_type": "code",
   "execution_count": null,
   "metadata": {
    "collapsed": true
   },
   "outputs": [],
   "source": [
    "t = (42) # # 只有一个元素的元组，后面的逗号省略后就不是元组类型了\n",
    "print(t)\n",
    "print(type(t))"
   ]
  },
  {
   "cell_type": "code",
   "execution_count": null,
   "metadata": {
    "collapsed": true
   },
   "outputs": [],
   "source": [
    "tupe1 = (12,45,32,55)\n",
    "print(tupe11[0])"
   ]
  },
  {
   "cell_type": "code",
   "execution_count": null,
   "metadata": {
    "collapsed": true
   },
   "outputs": [],
   "source": [
    "# 元组是不可变变量，不嫩修改元组中的值\n",
    "tupe1 = (12,45,32,55)\n",
    "tupe1[0] = \"good\"\n",
    "print(tupe1[0]) "
   ]
  },
  {
   "cell_type": "markdown",
   "metadata": {},
   "source": [
    "## 1.7 集合\n"
   ]
  },
  {
   "cell_type": "code",
   "execution_count": null,
   "metadata": {
    "collapsed": true
   },
   "outputs": [],
   "source": [
    "sample_set = {'Prince', 'Techs'}\n",
    "print('Data' in sample_set)     "
   ]
  },
  {
   "cell_type": "code",
   "execution_count": null,
   "metadata": {
    "collapsed": true
   },
   "outputs": [],
   "source": [
    "sample_set.add('Data')      \n",
    "print('Data' in sample_set) \n",
    "print(sample_set)"
   ]
  },
  {
   "cell_type": "code",
   "execution_count": null,
   "metadata": {
    "collapsed": true
   },
   "outputs": [],
   "source": [
    "print(len(sample_set))       \n",
    "sample_set.remove('Data')    \n",
    "print(sample_set)\n",
    "print(len(sample_set)) "
   ]
  },
  {
   "cell_type": "code",
   "execution_count": null,
   "metadata": {
    "collapsed": true
   },
   "outputs": [],
   "source": [
    "sample_set = {'Prince','Techs','Prince'}\n",
    "print(sample_set)"
   ]
  },
  {
   "cell_type": "code",
   "execution_count": null,
   "metadata": {
    "collapsed": true
   },
   "outputs": [],
   "source": [
    "for idx, word in enumerate(sample_set):\n",
    "    print('#%d: %s' % (idx + 1, word))"
   ]
  },
  {
   "cell_type": "code",
   "execution_count": null,
   "metadata": {
    "collapsed": true
   },
   "outputs": [],
   "source": [
    "from math import sqrt\n",
    "nums = {int(sqrt(x)) for x in range(100)}\n",
    "print(nums)  "
   ]
  },
  {
   "cell_type": "code",
   "execution_count": null,
   "metadata": {
    "collapsed": true
   },
   "outputs": [],
   "source": [
    "from math import sqrt\n",
    "nums = {int(sqrt(x)) for x in range(100)}\n",
    "print(len(nums))\n",
    "print(nums)"
   ]
  },
  {
   "cell_type": "markdown",
   "metadata": {},
   "source": [
    "## 1.8 字典\n",
    "\n",
    "- 字典是包含若干“键：值”元素的无序可变序列；\n",
    "- 不同元素之间用逗号分割，所有的元素放在一对{}中；\n",
    "- 字典元素中的“键”可以是Python中任意不可变数据，例如整数，实数，复数，字符串，元组等可哈希数据；\n",
    "- 字典中的“键”不允许重复，“值”是可以重复的"
   ]
  },
  {
   "cell_type": "code",
   "execution_count": null,
   "metadata": {
    "collapsed": true
   },
   "outputs": [],
   "source": [
    "D1 = {'food':'Spam','quantity':4,'color':'pink'}\n",
    "print(D1)\n",
    "\n",
    "D2 = dict(food='Spam',quantity=4, color='pink')\n",
    "print(D2)\n",
    "\n",
    "D3 = dict([(\"food\", \"1\"),(\"b\", \"2\")])\n",
    "print(D3)"
   ]
  },
  {
   "cell_type": "code",
   "execution_count": null,
   "metadata": {
    "collapsed": true
   },
   "outputs": [],
   "source": [
    "x = dict(food='Spam',quantity=4, color='pink')\n",
    "y = x.copy()\n",
    "y['color'] = 'red'\n",
    "print(x) \n",
    "print(y) "
   ]
  },
  {
   "cell_type": "code",
   "execution_count": null,
   "metadata": {
    "collapsed": true
   },
   "outputs": [],
   "source": [
    "d={}\n",
    "#print(d['name']) #出现KeyError\n",
    "print(d.get('name')) #打印出：None\n",
    "print(d.get('name',u'键值不存在！'))"
   ]
  },
  {
   "cell_type": "code",
   "execution_count": null,
   "metadata": {
    "collapsed": true
   },
   "outputs": [],
   "source": [
    "d = dict(title='hackdata',url='www.hackdata.cn',spam=0)\n",
    "print(d.keys())\n",
    "print(d.values())\n",
    "print(d.items())"
   ]
  },
  {
   "cell_type": "markdown",
   "metadata": {},
   "source": [
    "## 1.9 控制流\n",
    "\n",
    "- 条件语句：if, else, elif\n",
    "- 循环语句：for,while;中断循环使用break,continue\n",
    "- 异常处理：try,except"
   ]
  },
  {
   "cell_type": "code",
   "execution_count": null,
   "metadata": {
    "collapsed": true
   },
   "outputs": [],
   "source": [
    "review_sentiment = -1\n",
    "if review_sentiment > 0:\n",
    "    print('positive')\n",
    "elif review_sentiment == 0:\n",
    "    print('neutral')\n",
    "else:\n",
    "    print('negative')"
   ]
  },
  {
   "cell_type": "code",
   "execution_count": null,
   "metadata": {
    "collapsed": true
   },
   "outputs": [],
   "source": [
    "tests = [False,None,0,(),{},[],\"\"]\n",
    "for test in tests:\n",
    "    if test:\n",
    "        print(True)\n",
    "    else:\n",
    "        print(False)"
   ]
  },
  {
   "cell_type": "code",
   "execution_count": null,
   "metadata": {
    "collapsed": true
   },
   "outputs": [],
   "source": [
    "x,y = 1,1\n",
    "while x <= 20 and y <= 20:\n",
    "    print(\"before: x={}, y={}\".format(x,y))\n",
    "    if x > 9:\n",
    "        break\n",
    "    y += 1;x = x + y\n",
    "    print(\"after: x={}, y={}\".format(x,y))"
   ]
  },
  {
   "cell_type": "code",
   "execution_count": null,
   "metadata": {
    "collapsed": true
   },
   "outputs": [],
   "source": [
    "L = [5,-2,4,0,1,3]\n",
    "for x in range(len(L)):\n",
    "    L[x] += 1\n",
    "print(L)"
   ]
  },
  {
   "cell_type": "code",
   "execution_count": null,
   "metadata": {
    "collapsed": true
   },
   "outputs": [],
   "source": [
    "d = {'person':2,'spider':8}\n",
    "for animal in d:\n",
    "    legs = d[animal]\n",
    "    print('A %s has %d legs' % (animal,legs))"
   ]
  },
  {
   "cell_type": "code",
   "execution_count": null,
   "metadata": {
    "collapsed": true
   },
   "outputs": [],
   "source": [
    "myString = \"This string is not a number!\"\n",
    "try:\n",
    "    print(\"Converting myString to int...\")\n",
    "    myInt = int(myString)\n",
    "    print(myInt)\n",
    "except:\n",
    "    pass\n",
    "print(\"Done!\")"
   ]
  },
  {
   "cell_type": "markdown",
   "metadata": {},
   "source": [
    "## 1.10 函数"
   ]
  },
  {
   "cell_type": "code",
   "execution_count": null,
   "metadata": {
    "collapsed": true
   },
   "outputs": [],
   "source": [
    "def fibs(num,b=3):\n",
    "    result=[0,1]\n",
    "    for i in range(num-2):\n",
    "        result.append(result[-2] + result[-1])\n",
    "    return result"
   ]
  },
  {
   "cell_type": "code",
   "execution_count": null,
   "metadata": {
    "collapsed": true
   },
   "outputs": [],
   "source": [
    "print(fibs(7))"
   ]
  },
  {
   "cell_type": "code",
   "execution_count": null,
   "metadata": {
    "collapsed": true
   },
   "outputs": [],
   "source": [
    "def hello(greeting='hello',name='world'):\n",
    "    return ('%s, %s!' % (greeting, name))"
   ]
  },
  {
   "cell_type": "code",
   "execution_count": null,
   "metadata": {
    "collapsed": true
   },
   "outputs": [],
   "source": [
    "print(hello()) \n",
    "print(hello('Greetings')) \n",
    "print(hello('Greetings','universe')) \n",
    "print(hello(name='Gumby'))"
   ]
  },
  {
   "attachments": {
    "BMI_index.PNG": {
     "image/png": "[encoded data removed]"
    }
   },
   "cell_type": "markdown",
   "metadata": {},
   "source": [
    "<font color=#ff0000 size=5 face=\"黑体\">实践：BMI计算 </font>\n",
    "\n",
    "身体质量指数BMI（Body Mass Index）的定义为体重(kg)除以身高(米)的平方；\n",
    "\n",
    "例如，一个人身高1.75米，体重75公斤，BMI值为24.49.\n",
    "\n",
    "\n",
    "国内和国际BMI指标如下图所示：\n",
    "![BMI_index.PNG](attachment:BMI_index.PNG)\n",
    "\n",
    "按照要求完成程序：\n",
    "1. 编写3个函数，分别用来计算BMI的值，国际BMI指标分类建议值，国内BMI指标分类建议值；\n",
    "2. 结合异常处理，根据用户输入的体重和身高，计算并输出BMI值，同时输出国际和国内的BMI指标建议值；"
   ]
  },
  {
   "cell_type": "code",
   "execution_count": null,
   "metadata": {
    "collapsed": true
   },
   "outputs": [],
   "source": [
    "# 写一个函数，名为computeBMI，带两个参数height和weight，返回BMI值；\n",
    "def computeBMI(height,weight):\n",
    "    pass"
   ]
  },
  {
   "cell_type": "code",
   "execution_count": null,
   "metadata": {
    "collapsed": true
   },
   "outputs": [],
   "source": [
    "# 写一个函数，名为internationalBMI, 带一个参数BMI，返回国际指标值；\n",
    "def internationalBMI(BMI):\n",
    "    pass"
   ]
  },
  {
   "cell_type": "code",
   "execution_count": null,
   "metadata": {
    "collapsed": true
   },
   "outputs": [],
   "source": [
    "# 写一个函数，名为domesticBMI,带一个参数BMI，返回国内指标值；\n",
    "def domesticBMI(BMI):\n",
    "    pass"
   ]
  },
  {
   "cell_type": "code",
   "execution_count": null,
   "metadata": {
    "collapsed": true
   },
   "outputs": [],
   "source": [
    "# 这里我们使用异常处理只检查用户输入的身高和体重是否能够转换为浮点数；\n",
    "# 如果用户输入不能转换为浮点数，则输出提示消息：\n",
    "# 最终输出结果中，BMI值小数点后保留2位。\n",
    "# 这里的代码，调用之前写的3个函数\n",
    "try:\n",
    "    # 判断输入的身高和体重是否为数字\n",
    "    height =   \n",
    "    weight = \n",
    "except ValueError:\n",
    "    print(\"输入的身高和体重必须是数字。\")\n",
    "else:\n",
    "    # 计算BMI值，国内和国际指标分类值\n",
    "    # 将你的代码写在下面\n",
    "    \n",
    "finally:\n",
    "    print(\"程序完成。\")"
   ]
  },
  {
   "cell_type": "code",
   "execution_count": null,
   "metadata": {
    "collapsed": true
   },
   "outputs": [],
   "source": []
  }
 ],
 "metadata": {
  "anaconda-cloud": {},
  "kernelspec": {
   "display_name": "Python 3",
   "language": "python",
   "name": "python3"
  },
  "language_info": {
   "codemirror_mode": {
    "name": "ipython",
    "version": 3
   },
   "file_extension": ".py",
   "mimetype": "text/x-python",
   "name": "python",
   "nbconvert_exporter": "python",
   "pygments_lexer": "ipython3",
   "version": "3.7.6"
  }
 },
 "nbformat": 4,
 "nbformat_minor": 1
}
